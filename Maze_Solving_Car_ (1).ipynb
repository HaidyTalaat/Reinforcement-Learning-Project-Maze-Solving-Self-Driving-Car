{
  "nbformat": 4,
  "nbformat_minor": 0,
  "metadata": {
    "colab": {
      "provenance": [],
      "gpuType": "T4"
    },
    "kernelspec": {
      "name": "python3",
      "display_name": "Python 3"
    },
    "language_info": {
      "name": "python"
    },
    "accelerator": "GPU"
  },
  "cells": [
    {
      "cell_type": "markdown",
      "source": [
        "## **Imports**"
      ],
      "metadata": {
        "id": "ylMVfF2GVmfK"
      }
    },
    {
      "cell_type": "code",
      "source": [
        "import numpy as np\n",
        "import torch\n",
        "import torch.nn as nn\n",
        "import torch.optim as optim\n",
        "import random\n",
        "from collections import deque\n",
        "import pygame\n",
        "from gym import Env\n",
        "from gym.spaces import Discrete, Box\n",
        "import matplotlib.pyplot as plt\n",
        "from IPython.display import Image, display"
      ],
      "metadata": {
        "id": "k1lsMfv0ONGO"
      },
      "execution_count": 15,
      "outputs": []
    },
    {
      "cell_type": "markdown",
      "source": [
        "# **Building Custom Maze Environment**"
      ],
      "metadata": {
        "id": "270osfBzV2aY"
      }
    },
    {
      "cell_type": "code",
      "source": [
        "class CustomMazeEnv(Env):\n",
        "    def __init__(self):\n",
        "        super().__init__()\n",
        "        self.maze = np.array([\n",
        "            [1,1,1,1,1,1,1,1,1,1,1,1,1,1],\n",
        "            [1,3,0,2,0,1,0,0,0,0,0,0,0,1],\n",
        "            [1,0,0,0,0,1,1,1,1,0,0,1,0,1],\n",
        "            [1,0,0,0,0,0,0,0,1,0,0,1,0,1],\n",
        "            [1,1,1,1,0,1,1,0,0,0,0,1,1,1],\n",
        "            [1,0,0,1,0,1,0,0,0,2,0,1,0,4],\n",
        "            [1,0,0,0,0,1,0,0,0,0,0,1,0,1],\n",
        "            [1,0,2,0,0,1,1,1,1,1,1,1,0,1],\n",
        "            [1,0,0,0,0,1,0,0,0,0,0,1,0,1],\n",
        "            [1,0,0,1,0,1,0,0,0,0,1,1,0,1],\n",
        "            [1,0,0,1,0,1,0,2,0,0,0,0,0,1],\n",
        "            [1,0,0,1,1,1,0,2,0,0,2,2,0,1],\n",
        "            [1,0,0,0,0,0,0,2,0,0,2,0,0,1],\n",
        "            [1,0,0,0,0,0,0,0,0,0,0,0,0,1],\n",
        "            [1,1,1,1,1,1,1,1,1,1,1,1,1,1]\n",
        "        ])\n",
        "        self.start_pos = np.argwhere(self.maze == 3)[0]\n",
        "        self.goal_pos  = np.argwhere(self.maze == 4)[0]\n",
        "        self.agent_pos = self.start_pos.copy()\n",
        "        self.action_space = Discrete(4)  # 0:left, 1:right, 2:up, 3:down\n",
        "        self.observation_space = Box(\n",
        "            low=np.array([0,0]),\n",
        "            high=np.array([self.maze.shape[0]-1, self.maze.shape[1]-1]),\n",
        "            dtype=np.int32\n",
        "        )\n",
        "        pygame.init()\n",
        "        self.cell_size = 40\n",
        "        self.screen = pygame.display.set_mode((\n",
        "            self.maze.shape[1]*self.cell_size,\n",
        "            self.maze.shape[0]*self.cell_size\n",
        "        ))\n",
        "        pygame.display.set_caption(\"Custom Maze Environment\")\n",
        "\n",
        "    def reset(self):\n",
        "        self.agent_pos = self.start_pos.copy()\n",
        "        return np.array(self.agent_pos, dtype=np.int32)\n",
        "\n",
        "    def step(self, action):\n",
        "        x, y = self.agent_pos\n",
        "        new_pos = [x, y]\n",
        "        if   action == 0: new_pos[1] -= 1\n",
        "        elif action == 1: new_pos[1] += 1\n",
        "        elif action == 2: new_pos[0] -= 1\n",
        "        elif action == 3: new_pos[0] += 1\n",
        "\n",
        "\n",
        "        if not (0 <= new_pos[0] < self.maze.shape[0] and\n",
        "                0 <= new_pos[1] < self.maze.shape[1]):\n",
        "            return np.array(self.agent_pos, dtype=np.int32), -10, False, {}\n",
        "\n",
        "        cell = self.maze[new_pos[0], new_pos[1]]\n",
        "        if cell == 1:\n",
        "            reward, done = -10, False\n",
        "        else:\n",
        "            self.agent_pos = new_pos\n",
        "            if (new_pos[0], new_pos[1]) == tuple(self.goal_pos):\n",
        "                reward, done = 100, True\n",
        "            elif cell == 2:\n",
        "                reward, done = -20, False\n",
        "            else:\n",
        "                reward, done = 5, False\n",
        "\n",
        "        return np.array(self.agent_pos, dtype=np.int32), reward, done, {}\n",
        "\n",
        "    def render(self, save_as_image=False, image_path=\"maze_image.png\"):\n",
        "        self.screen.fill((255,255,255))\n",
        "        colors = {0:(255,255,255), 1:(0,0,0), 2:(255,0,0), 3:(0,255,0), 4:(0,0,255)}\n",
        "        for r in range(self.maze.shape[0]):\n",
        "            for c in range(self.maze.shape[1]):\n",
        "                pygame.draw.rect(\n",
        "                    self.screen, colors[self.maze[r,c]],\n",
        "                    (c*self.cell_size, r*self.cell_size, self.cell_size, self.cell_size)\n",
        "                )\n",
        "                pygame.draw.rect(\n",
        "                    self.screen, (0,0,0),\n",
        "                    (c*self.cell_size, r*self.cell_size, self.cell_size, self.cell_size), 1\n",
        "                )\n",
        "        pygame.draw.circle(\n",
        "            self.screen, (255,255,0),\n",
        "            (self.agent_pos[1]*self.cell_size + self.cell_size//2,\n",
        "             self.agent_pos[0]*self.cell_size + self.cell_size//2),\n",
        "            self.cell_size//3\n",
        "        )\n",
        "        pygame.display.flip()\n",
        "        if save_as_image:\n",
        "            pygame.image.save(self.screen, image_path)\n",
        "            print(f\"Saved: {image_path}\")\n",
        "\n",
        "    def close(self):\n",
        "        pygame.quit()\n"
      ],
      "metadata": {
        "id": "gJ_6oehcONC4"
      },
      "execution_count": 16,
      "outputs": []
    },
    {
      "cell_type": "markdown",
      "source": [
        "# **Q-Network Definition**"
      ],
      "metadata": {
        "id": "LgLa-ADdWBHL"
      }
    },
    {
      "cell_type": "code",
      "source": [
        "class QNetwork(nn.Module):\n",
        "    def __init__(self, in_size, out_size, hidden=64):\n",
        "        super().__init__()\n",
        "        self.net = nn.Sequential(\n",
        "            nn.Linear(in_size, hidden),\n",
        "            nn.ReLU(),\n",
        "            nn.Linear(hidden, out_size)\n",
        "        )\n",
        "\n",
        "    def forward(self, x):\n",
        "        return self.net(x)\n"
      ],
      "metadata": {
        "id": "QKEFFYqWONAi"
      },
      "execution_count": 17,
      "outputs": []
    },
    {
      "cell_type": "markdown",
      "source": [
        "# **Replay Buffer**"
      ],
      "metadata": {
        "id": "qjeUs9MaWHso"
      }
    },
    {
      "cell_type": "code",
      "source": [
        "class ReplayBuffer:\n",
        "    def __init__(self, cap=10000):\n",
        "        self.buf = deque(maxlen=cap)\n",
        "\n",
        "    def push(self, s, a, r, s_next, d):\n",
        "        self.buf.append((s, a, r, s_next, d))\n",
        "\n",
        "    def sample(self, bs):\n",
        "        batch = random.sample(self.buf, bs)\n",
        "        s, a, r, s_next, d = zip(*batch)\n",
        "        return (\n",
        "            np.array(s),\n",
        "            np.array(a),\n",
        "            np.array(r, dtype=np.float32),\n",
        "            np.array(s_next),\n",
        "            np.array(d, dtype=np.uint8)\n",
        "        )\n",
        "\n",
        "    def __len__(self):\n",
        "        return len(self.buf)\n"
      ],
      "metadata": {
        "id": "gkyj0j-sOM9x"
      },
      "execution_count": 18,
      "outputs": []
    },
    {
      "cell_type": "markdown",
      "source": [
        "# **DQN Agent**"
      ],
      "metadata": {
        "id": "YviFABRzWLJN"
      }
    },
    {
      "cell_type": "code",
      "source": [
        "class DQNAgent:\n",
        "    def __init__(\n",
        "        self,\n",
        "        state_size=2,\n",
        "        action_size=4,\n",
        "        lr=0.001,\n",
        "        gamma=0.9,\n",
        "        eps_start=1.0,\n",
        "        eps_end=0.01,\n",
        "        episodes=100,\n",
        "        bs=32,\n",
        "        cap=10000\n",
        "    ):\n",
        "        self.state_size, self.action_size, self.gamma = state_size, action_size, gamma\n",
        "        self.episodes, self.bs = episodes, bs\n",
        "        self.eps_start, self.eps_end = eps_start, eps_end\n",
        "        self.net = QNetwork(state_size, action_size)\n",
        "        self.opt = optim.Adam(self.net.parameters(), lr=lr)\n",
        "        self.loss_fn = nn.MSELoss()\n",
        "        self.buf = ReplayBuffer(cap)\n",
        "\n",
        "    def eps(self, ep):\n",
        "        return self.eps_start * (self.eps_end/self.eps_start)**(ep/self.episodes)\n",
        "\n",
        "    def get_action(self, s, ep):\n",
        "        if random.random() < self.eps(ep):\n",
        "            return random.randint(0, self.action_size-1)\n",
        "        with torch.no_grad():\n",
        "            q = self.net(torch.FloatTensor(s).unsqueeze(0))\n",
        "        return int(torch.argmax(q).item())\n",
        "\n",
        "    def update(self):\n",
        "        if len(self.buf) < self.bs:\n",
        "            return\n",
        "        s, a, r, s_next, d = self.buf.sample(self.bs)\n",
        "        s       = torch.FloatTensor(s)\n",
        "        a       = torch.LongTensor(a).unsqueeze(1)\n",
        "        r       = torch.FloatTensor(r).unsqueeze(1)\n",
        "        s_next  = torch.FloatTensor(s_next)\n",
        "        d       = torch.FloatTensor(d).unsqueeze(1)\n",
        "\n",
        "        q_curr = self.net(s).gather(1, a)\n",
        "        with torch.no_grad():\n",
        "            q_next = self.net(s_next).max(1)[0].unsqueeze(1)\n",
        "        target = r + self.gamma * q_next * (1 - d)\n",
        "\n",
        "        loss = self.loss_fn(q_curr, target)\n",
        "        self.opt.zero_grad()\n",
        "        loss.backward()\n",
        "        self.opt.step()\n"
      ],
      "metadata": {
        "id": "1eCFYkCmOM7O"
      },
      "execution_count": 19,
      "outputs": []
    },
    {
      "cell_type": "markdown",
      "source": [
        "# **Training & Evaluation**"
      ],
      "metadata": {
        "id": "eO-fSO3qWUjH"
      }
    },
    {
      "cell_type": "code",
      "source": [
        "def run_episode(agent, env, ep, train=True, max_steps=10000):\n",
        "    s = env.reset()\n",
        "    total, steps = 0, 0\n",
        "    done = False\n",
        "    while not done and steps < max_steps:\n",
        "        a = agent.get_action(s, ep)\n",
        "        s_next, r, done, _ = env.step(a)\n",
        "        total += r\n",
        "        steps += 1\n",
        "        if train:\n",
        "            agent.buf.push(s, a, r, s_next, done)\n",
        "            agent.update()\n",
        "        s = s_next\n",
        "    return total, steps, done\n",
        "\n",
        "def evaluate(agent, env, episodes=20, max_steps=10000):\n",
        "    rewards, successes = [], 0\n",
        "    for _ in range(episodes):\n",
        "        r, steps, done = run_episode(agent, env, ep=0, train=False, max_steps=max_steps)\n",
        "        rewards.append(r)\n",
        "        if done:\n",
        "            successes += 1\n",
        "    avg_reward = np.mean(rewards)\n",
        "    success_rate = successes / episodes * 100\n",
        "    return avg_reward, success_rate\n"
      ],
      "metadata": {
        "id": "oWBZ-35WOM4x"
      },
      "execution_count": 20,
      "outputs": []
    },
    {
      "cell_type": "markdown",
      "source": [
        "# **Execution and Visualization**"
      ],
      "metadata": {
        "id": "t2R_vdetWXit"
      }
    },
    {
      "cell_type": "code",
      "source": [
        "if __name__ == \"__main__\":\n",
        "    env   = CustomMazeEnv()\n",
        "    agent = DQNAgent(episodes=100)\n",
        "\n",
        "    print(\"متاهة أولية:\")\n",
        "    env.render(save_as_image=True, image_path=\"maze_initial.png\")\n",
        "    display(Image(filename=\"maze_initial.png\"))\n",
        "\n",
        "    rewards_list, steps_list = [], []\n",
        "    for ep in range(agent.episodes):\n",
        "        total, steps, _ = run_episode(agent, env, ep, train=True)\n",
        "        rewards_list.append(total)\n",
        "        steps_list.append(steps)\n",
        "        if (ep+1) % 10 == 0:\n",
        "            print(f\"Ep {ep+1}: Total Reward={total}, Steps={steps}\")\n",
        "\n",
        "    plt.figure(figsize=(12, 5))\n",
        "    plt.subplot(1, 2, 1)\n",
        "    plt.plot(rewards_list)\n",
        "    plt.xlabel(\"Episode\"); plt.ylabel(\"Cumulative Reward\"); plt.title(\"Reward per Episode\")\n",
        "    plt.subplot(1, 2, 2)\n",
        "    plt.plot(steps_list)\n",
        "    plt.xlabel(\"Episode\"); plt.ylabel(\"Steps Taken\");     plt.title(\"Steps per Episode\")\n",
        "    plt.tight_layout(); plt.show()\n",
        "\n",
        "\n",
        "    avg_reward, success_rate = evaluate(agent, env)\n",
        "    print(f\"\\nتقييم الموديل: متوسط المكافأة = {avg_reward:.2f}، نسبة النجاح = {success_rate:.1f}%\")\n",
        "\n",
        "\n",
        "    print(\"متاهة بعد التدريب:\")\n",
        "    env.render(save_as_image=True, image_path=\"maze_final.png\")\n",
        "    display(Image(filename=\"maze_final.png\"))\n"
      ],
      "metadata": {
        "colab": {
          "base_uri": "https://localhost:8080/",
          "height": 1000
        },
        "id": "_W15_rO8OM2O",
        "outputId": "f40484f3-cef5-41f9-af39-5976aad706fd"
      },
      "execution_count": 23,
      "outputs": [
        {
          "output_type": "stream",
          "name": "stdout",
          "text": [
            "متاهة أولية:\n",
            "Saved: maze_initial.png\n"
          ]
        },
        {
          "output_type": "display_data",
          "data": {
            "image/png": "[encoded data removed]",
            "text/plain": [
              "<IPython.core.display.Image object>"
            ]
          },
          "metadata": {}
        },
        {
          "output_type": "stream",
          "name": "stdout",
          "text": [
            "Ep 10: Total Reward=22485, Steps=10000\n",
            "Ep 20: Total Reward=6045, Steps=10000\n",
            "Ep 30: Total Reward=30215, Steps=10000\n",
            "Ep 40: Total Reward=42990, Steps=10000\n",
            "Ep 50: Total Reward=44975, Steps=10000\n",
            "Ep 60: Total Reward=46745, Steps=10000\n",
            "Ep 70: Total Reward=48480, Steps=10000\n",
            "Ep 80: Total Reward=48485, Steps=10000\n",
            "Ep 90: Total Reward=49225, Steps=10000\n",
            "Ep 100: Total Reward=49540, Steps=10000\n"
          ]
        },
        {
          "output_type": "display_data",
          "data": {
            "text/plain": [
              "<Figure size 1200x500 with 2 Axes>"
            ],
            "image/png": "[encoded data removed]"
          },
          "metadata": {}
        },
        {
          "output_type": "stream",
          "name": "stdout",
          "text": [
            "\n",
            "تقييم الموديل: متوسط المكافأة = -2919.00، نسبة النجاح = 85.0%\n",
            "متاهة بعد التدريب:\n",
            "Saved: maze_final.png\n"
          ]
        },
        {
          "output_type": "display_data",
          "data": {
            "image/png": "[encoded data removed]",
            "text/plain": [
              "<IPython.core.display.Image object>"
            ]
          },
          "metadata": {}
        }
      ]
    },
    {
      "cell_type": "code",
      "source": [
        "    model_path = \"dqn_maze.pth\"\n",
        "    torch.save(agent.net.state_dict(), model_path)\n",
        "    print(f\"Model saved to {model_path}\")"
      ],
      "metadata": {
        "colab": {
          "base_uri": "https://localhost:8080/"
        },
        "id": "8ye1T6qKOMsN",
        "outputId": "0a004c90-8437-4720-ca6e-9011470aa19d"
      },
      "execution_count": 24,
      "outputs": [
        {
          "output_type": "stream",
          "name": "stdout",
          "text": [
            "Model saved to dqn_maze.pth\n"
          ]
        }
      ]
    },
    {
      "cell_type": "code",
      "source": [],
      "metadata": {
        "id": "KXLXvpScOMp1"
      },
      "execution_count": null,
      "outputs": []
    },
    {
      "cell_type": "code",
      "source": [],
      "metadata": {
        "id": "58D1M_16OMlV"
      },
      "execution_count": null,
      "outputs": []
    }
  ]
}