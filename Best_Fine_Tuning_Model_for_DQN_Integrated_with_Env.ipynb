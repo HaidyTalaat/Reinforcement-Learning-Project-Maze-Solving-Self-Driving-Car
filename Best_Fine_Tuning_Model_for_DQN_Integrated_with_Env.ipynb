{
  "metadata": {
    "kernelspec": {
      "name": "python3",
      "display_name": "Python 3",
      "language": "python"
    },
    "language_info": {
      "name": "python",
      "version": "3.10.12",
      "mimetype": "text/x-python",
      "codemirror_mode": {
        "name": "ipython",
        "version": 3
      },
      "pygments_lexer": "ipython3",
      "nbconvert_exporter": "python",
      "file_extension": ".py"
    },
    "colab": {
      "provenance": [],
      "gpuType": "T4",
      "name": "Best Fine Tuning Model for DQN Integrated with Env",
      "include_colab_link": true
    },
    "kaggle": {
      "accelerator": "gpu",
      "dataSources": [],
      "dockerImageVersionId": 30919,
      "isInternetEnabled": true,
      "language": "python",
      "sourceType": "notebook",
      "isGpuEnabled": true
    },
    "accelerator": "GPU"
  },
  "nbformat_minor": 0,
  "nbformat": 4,
  "cells": [
    {
      "cell_type": "markdown",
      "metadata": {
        "id": "view-in-github",
        "colab_type": "text"
      },
      "source": [
        "<a href=\"https://colab.research.google.com/github/HaidyTalaat/Reinforcement-Learning-Project-Maze-Solving-Self-Driving-Car/blob/Haidy-Rl-Maze-Project-Final-Docs/Best_Fine_Tuning_Model_for_DQN_Integrated_with_Env.ipynb\" target=\"_parent\"><img src=\"https://colab.research.google.com/assets/colab-badge.svg\" alt=\"Open In Colab\"/></a>"
      ]
    },
    {
      "cell_type": "markdown",
      "source": [
        "# **Problem Definition :**<br>\n",
        "**Self-driving car that solves maze by finding shortest path and avoid obstacles that appears in the way.**\n"
      ],
      "metadata": {
        "id": "N_gNF_hkudH0"
      }
    },
    {
      "cell_type": "markdown",
      "source": [
        "# **1. Importing Dependecies**"
      ],
      "metadata": {
        "id": "A6kX6Rf8izmf"
      }
    },
    {
      "cell_type": "code",
      "source": [
        "!pip install pygame\n",
        "!pip install tensorflow\n"
      ],
      "metadata": {
        "colab": {
          "base_uri": "https://localhost:8080/"
        },
        "id": "3BKAvB7d0B87",
        "outputId": "913b14a4-9592-4530-8c57-2e6bc3155a16",
        "trusted": true,
        "execution": {
          "iopub.status.busy": "2025-04-05T22:29:39.458682Z",
          "iopub.execute_input": "2025-04-05T22:29:39.459035Z",
          "iopub.status.idle": "2025-04-05T22:29:47.097317Z",
          "shell.execute_reply.started": "2025-04-05T22:29:39.459007Z",
          "shell.execute_reply": "2025-04-05T22:29:47.096409Z"
        }
      },
      "outputs": [
        {
          "name": "stdout",
          "text": "Requirement already satisfied: pygame in /usr/local/lib/python3.10/dist-packages (2.6.1)\nRequirement already satisfied: tensorflow in /usr/local/lib/python3.10/dist-packages (2.17.1)\nRequirement already satisfied: absl-py>=1.0.0 in /usr/local/lib/python3.10/dist-packages (from tensorflow) (1.4.0)\nRequirement already satisfied: astunparse>=1.6.0 in /usr/local/lib/python3.10/dist-packages (from tensorflow) (1.6.3)\nRequirement already satisfied: flatbuffers>=24.3.25 in /usr/local/lib/python3.10/dist-packages (from tensorflow) (24.3.25)\nRequirement already satisfied: gast!=0.5.0,!=0.5.1,!=0.5.2,>=0.2.1 in /usr/local/lib/python3.10/dist-packages (from tensorflow) (0.6.0)\nRequirement already satisfied: google-pasta>=0.1.1 in /usr/local/lib/python3.10/dist-packages (from tensorflow) (0.2.0)\nRequirement already satisfied: h5py>=3.10.0 in /usr/local/lib/python3.10/dist-packages (from tensorflow) (3.12.1)\nRequirement already satisfied: libclang>=13.0.0 in /usr/local/lib/python3.10/dist-packages (from tensorflow) (18.1.1)\nRequirement already satisfied: ml-dtypes<0.5.0,>=0.3.1 in /usr/local/lib/python3.10/dist-packages (from tensorflow) (0.4.1)\nRequirement already satisfied: opt-einsum>=2.3.2 in /usr/local/lib/python3.10/dist-packages (from tensorflow) (3.4.0)\nRequirement already satisfied: packaging in /usr/local/lib/python3.10/dist-packages (from tensorflow) (24.2)\nRequirement already satisfied: protobuf!=4.21.0,!=4.21.1,!=4.21.2,!=4.21.3,!=4.21.4,!=4.21.5,<5.0.0dev,>=3.20.3 in /usr/local/lib/python3.10/dist-packages (from tensorflow) (3.20.3)\nRequirement already satisfied: requests<3,>=2.21.0 in /usr/local/lib/python3.10/dist-packages (from tensorflow) (2.32.3)\nRequirement already satisfied: setuptools in /usr/local/lib/python3.10/dist-packages (from tensorflow) (75.1.0)\nRequirement already satisfied: six>=1.12.0 in /usr/local/lib/python3.10/dist-packages (from tensorflow) (1.17.0)\nRequirement already satisfied: termcolor>=1.1.0 in /usr/local/lib/python3.10/dist-packages (from tensorflow) (2.5.0)\nRequirement already satisfied: typing-extensions>=3.6.6 in /usr/local/lib/python3.10/dist-packages (from tensorflow) (4.12.2)\nRequirement already satisfied: wrapt>=1.11.0 in /usr/local/lib/python3.10/dist-packages (from tensorflow) (1.17.0)\nRequirement already satisfied: grpcio<2.0,>=1.24.3 in /usr/local/lib/python3.10/dist-packages (from tensorflow) (1.68.1)\nRequirement already satisfied: tensorboard<2.18,>=2.17 in /usr/local/lib/python3.10/dist-packages (from tensorflow) (2.17.1)\nRequirement already satisfied: keras>=3.2.0 in /usr/local/lib/python3.10/dist-packages (from tensorflow) (3.5.0)\nRequirement already satisfied: tensorflow-io-gcs-filesystem>=0.23.1 in /usr/local/lib/python3.10/dist-packages (from tensorflow) (0.37.1)\nRequirement already satisfied: numpy<2.0.0,>=1.23.5 in /usr/local/lib/python3.10/dist-packages (from tensorflow) (1.26.4)\nRequirement already satisfied: wheel<1.0,>=0.23.0 in /usr/local/lib/python3.10/dist-packages (from astunparse>=1.6.0->tensorflow) (0.45.1)\nRequirement already satisfied: rich in /usr/local/lib/python3.10/dist-packages (from keras>=3.2.0->tensorflow) (13.9.4)\nRequirement already satisfied: namex in /usr/local/lib/python3.10/dist-packages (from keras>=3.2.0->tensorflow) (0.0.8)\nRequirement already satisfied: optree in /usr/local/lib/python3.10/dist-packages (from keras>=3.2.0->tensorflow) (0.13.1)\nRequirement already satisfied: mkl_fft in /usr/local/lib/python3.10/dist-packages (from numpy<2.0.0,>=1.23.5->tensorflow) (1.3.8)\nRequirement already satisfied: mkl_random in /usr/local/lib/python3.10/dist-packages (from numpy<2.0.0,>=1.23.5->tensorflow) (1.2.4)\nRequirement already satisfied: mkl_umath in /usr/local/lib/python3.10/dist-packages (from numpy<2.0.0,>=1.23.5->tensorflow) (0.1.1)\nRequirement already satisfied: mkl in /usr/local/lib/python3.10/dist-packages (from numpy<2.0.0,>=1.23.5->tensorflow) (2025.0.1)\nRequirement already satisfied: tbb4py in /usr/local/lib/python3.10/dist-packages (from numpy<2.0.0,>=1.23.5->tensorflow) (2022.0.0)\nRequirement already satisfied: mkl-service in /usr/local/lib/python3.10/dist-packages (from numpy<2.0.0,>=1.23.5->tensorflow) (2.4.1)\nRequirement already satisfied: charset-normalizer<4,>=2 in /usr/local/lib/python3.10/dist-packages (from requests<3,>=2.21.0->tensorflow) (3.4.1)\nRequirement already satisfied: idna<4,>=2.5 in /usr/local/lib/python3.10/dist-packages (from requests<3,>=2.21.0->tensorflow) (3.10)\nRequirement already satisfied: urllib3<3,>=1.21.1 in /usr/local/lib/python3.10/dist-packages (from requests<3,>=2.21.0->tensorflow) (2.3.0)\nRequirement already satisfied: certifi>=2017.4.17 in /usr/local/lib/python3.10/dist-packages (from requests<3,>=2.21.0->tensorflow) (2025.1.31)\nRequirement already satisfied: markdown>=2.6.8 in /usr/local/lib/python3.10/dist-packages (from tensorboard<2.18,>=2.17->tensorflow) (3.7)\nRequirement already satisfied: tensorboard-data-server<0.8.0,>=0.7.0 in /usr/local/lib/python3.10/dist-packages (from tensorboard<2.18,>=2.17->tensorflow) (0.7.2)\nRequirement already satisfied: werkzeug>=1.0.1 in /usr/local/lib/python3.10/dist-packages (from tensorboard<2.18,>=2.17->tensorflow) (3.1.3)\nRequirement already satisfied: MarkupSafe>=2.1.1 in /usr/local/lib/python3.10/dist-packages (from werkzeug>=1.0.1->tensorboard<2.18,>=2.17->tensorflow) (3.0.2)\nRequirement already satisfied: intel-openmp>=2024 in /usr/local/lib/python3.10/dist-packages (from mkl->numpy<2.0.0,>=1.23.5->tensorflow) (2024.2.0)\nRequirement already satisfied: tbb==2022.* in /usr/local/lib/python3.10/dist-packages (from mkl->numpy<2.0.0,>=1.23.5->tensorflow) (2022.0.0)\nRequirement already satisfied: tcmlib==1.* in /usr/local/lib/python3.10/dist-packages (from tbb==2022.*->mkl->numpy<2.0.0,>=1.23.5->tensorflow) (1.2.0)\nRequirement already satisfied: intel-cmplr-lib-rt in /usr/local/lib/python3.10/dist-packages (from mkl_umath->numpy<2.0.0,>=1.23.5->tensorflow) (2024.2.0)\nRequirement already satisfied: markdown-it-py>=2.2.0 in /usr/local/lib/python3.10/dist-packages (from rich->keras>=3.2.0->tensorflow) (3.0.0)\nRequirement already satisfied: pygments<3.0.0,>=2.13.0 in /usr/local/lib/python3.10/dist-packages (from rich->keras>=3.2.0->tensorflow) (2.19.1)\nRequirement already satisfied: intel-cmplr-lib-ur==2024.2.0 in /usr/local/lib/python3.10/dist-packages (from intel-openmp>=2024->mkl->numpy<2.0.0,>=1.23.5->tensorflow) (2024.2.0)\nRequirement already satisfied: mdurl~=0.1 in /usr/local/lib/python3.10/dist-packages (from markdown-it-py>=2.2.0->rich->keras>=3.2.0->tensorflow) (0.1.2)\n",
          "output_type": "stream"
        }
      ],
      "execution_count": null
    },
    {
      "cell_type": "code",
      "source": [
        "import numpy as np\n",
        "import gym\n",
        "from gym import Env\n",
        "from gym.spaces import Discrete, Box\n",
        "import pygame\n",
        "#from google.colab import files\n",
        "from IPython.display import Image, display\n",
        "import random\n",
        "import time\n",
        "import cv2\n",
        "import glob\n",
        "import os\n",
        "import tensorflow as tf\n",
        "from tensorflow import keras\n",
        "from tensorflow.keras.models import Sequential\n",
        "from tensorflow.keras.optimizers import Adam\n",
        "from tensorflow.keras.layers import Dense, Dropout, BatchNormalization, Flatten, LeakyReLU\n",
        "from tensorflow.keras.callbacks import ModelCheckpoint\n",
        "import matplotlib.pyplot as plt\n",
        "import warnings\n",
        "warnings.filterwarnings('ignore')\n"
      ],
      "metadata": {
        "id": "BVshqXxnitk8",
        "colab": {
          "base_uri": "https://localhost:8080/"
        },
        "outputId": "e61d9e54-d2e5-4c3f-bad3-bacaf8b1ef09",
        "trusted": true,
        "execution": {
          "iopub.status.busy": "2025-04-05T22:29:47.098481Z",
          "iopub.execute_input": "2025-04-05T22:29:47.09877Z",
          "iopub.status.idle": "2025-04-05T22:30:00.171173Z",
          "shell.execute_reply.started": "2025-04-05T22:29:47.098743Z",
          "shell.execute_reply": "2025-04-05T22:30:00.17047Z"
        }
      },
      "outputs": [
        {
          "output_type": "stream",
          "name": "stderr",
          "text": [
            "/usr/local/lib/python3.11/dist-packages/pygame/pkgdata.py:25: DeprecationWarning: pkg_resources is deprecated as an API. See https://setuptools.pypa.io/en/latest/pkg_resources.html\n",
            "  from pkg_resources import resource_stream, resource_exists\n",
            "/usr/local/lib/python3.11/dist-packages/pkg_resources/__init__.py:3154: DeprecationWarning: Deprecated call to `pkg_resources.declare_namespace('google')`.\n",
            "Implementing implicit namespace packages (as specified in PEP 420) is preferred to `pkg_resources.declare_namespace`. See https://setuptools.pypa.io/en/latest/references/keywords.html#keyword-namespace-packages\n",
            "  declare_namespace(pkg)\n",
            "/usr/local/lib/python3.11/dist-packages/pkg_resources/__init__.py:3154: DeprecationWarning: Deprecated call to `pkg_resources.declare_namespace('google.cloud')`.\n",
            "Implementing implicit namespace packages (as specified in PEP 420) is preferred to `pkg_resources.declare_namespace`. See https://setuptools.pypa.io/en/latest/references/keywords.html#keyword-namespace-packages\n",
            "  declare_namespace(pkg)\n",
            "/usr/local/lib/python3.11/dist-packages/pkg_resources/__init__.py:3154: DeprecationWarning: Deprecated call to `pkg_resources.declare_namespace('sphinxcontrib')`.\n",
            "Implementing implicit namespace packages (as specified in PEP 420) is preferred to `pkg_resources.declare_namespace`. See https://setuptools.pypa.io/en/latest/references/keywords.html#keyword-namespace-packages\n",
            "  declare_namespace(pkg)\n"
          ]
        }
      ],
      "execution_count": 1
    },
    {
      "cell_type": "markdown",
      "source": [
        "# **2. Creating our environment**"
      ],
      "metadata": {
        "id": "XSdg3zZ2ase0"
      }
    },
    {
      "cell_type": "code",
      "source": [
        "class CustomMazeEnv(Env):\n",
        "    def __init__(self, render_mode=\"rgb_array\", record_video=False, output_video_path=\"agent_demo.mp4\",max_steps=500):\n",
        "        super().__init__()\n",
        "        self.total_reward = 0  # Initialize cumulative reward\n",
        "        self.max_steps = max_steps\n",
        "        self.current_steps = 0\n",
        "\n",
        "        # 0 --> path 1 --> walls 2--> obstacles 3 --> agent 4 --> goal\n",
        "        self.maze = np.array([\n",
        "            [1, 1, 1, 1, 1, 1, 1, 1, 1, 1, 1, 1, 1, 1],\n",
        "            [1, 3, 0, 2, 0, 1, 0, 0, 0, 0, 0, 0, 0, 1],\n",
        "            [1, 0, 0, 0, 0, 1, 1, 1, 1, 0, 0, 1, 0, 1],\n",
        "            [1, 0, 0, 0, 0, 0, 0, 0, 1, 0, 0, 1, 0, 1],\n",
        "            [1, 1, 1, 1, 0, 1, 1, 0, 0, 0, 0, 1, 1, 1],\n",
        "            [1, 0, 0, 1, 0, 1, 0, 0, 0, 2, 0, 0, 0, 4],\n",
        "            [1, 0, 0, 0, 0, 1, 0, 0, 0, 0, 0, 1, 0, 1],\n",
        "            [1, 0, 2, 0, 0, 1, 1, 1, 1, 1, 1, 1, 0, 1],\n",
        "            [1, 0, 0, 0, 0, 1, 0, 0, 0, 0, 0, 1, 0, 1],\n",
        "            [1, 0, 0, 1, 0, 1, 0, 0, 0, 0, 1, 1, 0, 1],\n",
        "            [1, 0, 0, 1, 0, 1, 0, 2, 0, 0, 0, 0, 0, 1],\n",
        "            [1, 0, 0, 1, 1, 1, 0, 2, 0, 0, 2, 2, 0, 1],\n",
        "            [1, 0, 0, 0, 0, 0, 0, 2, 0, 0, 2, 0, 0, 1],\n",
        "            [1, 0, 0, 0, 0, 0, 0, 0, 0, 0, 0, 0, 0, 1],\n",
        "            [1, 1, 1, 1, 1, 1, 1, 1, 1, 1, 1, 1, 1, 1]\n",
        "        ])\n",
        "\n",
        "        # Locate starting and goal positions and set the agent at the start.\n",
        "        self.start_pos = np.argwhere(self.maze == 3)[0]\n",
        "        self.goal_pos = np.argwhere(self.maze == 4)[0]\n",
        "        self.agent_pos = self.start_pos.copy()\n",
        "\n",
        "        self.action_space = Discrete(4)  # Up, Down, Left, Right\n",
        "        self.observation_space = Box(low=np.array([0, 0]), high=np.array([14, 13]), dtype=np.int32)\n",
        "\n",
        "        # Pygame Rendering\n",
        "        pygame.init()\n",
        "        pygame.font.init()\n",
        "        self.font = pygame.font.SysFont(None, 30)  # You can change the size\n",
        "\n",
        "        self.cell_size = 40\n",
        "        self.screen = pygame.display.set_mode((self.maze.shape[1] * self.cell_size, self.maze.shape[0] * self.cell_size))\n",
        "        pygame.display.set_caption(\"Custom Maze Environment\")\n",
        "\n",
        "        # sets up video recording if enabled.\n",
        "        self.record_video = record_video\n",
        "        if self.record_video:\n",
        "            self.frame_rate = 25\n",
        "            self.output_video_path = output_video_path\n",
        "            self.fourcc = cv2.VideoWriter_fourcc(*'mp4v')\n",
        "            # Creates an OpenCV video writer object.\n",
        "            self.out = cv2.VideoWriter(self.output_video_path, self.fourcc, self.frame_rate,\n",
        "                                       (self.maze.shape[1] * self.cell_size, self.maze.shape[0] * self.cell_size))\n",
        "\n",
        "    # Reset function\n",
        "    def reset(self):\n",
        "        self.agent_pos = self.start_pos.copy()\n",
        "        self.total_reward = 0\n",
        "        self.current_steps = 0\n",
        "        self.current_reward = 0\n",
        "\n",
        "        return np.array(self.agent_pos, dtype=np.int32)\n",
        "\n",
        "    # Check Obstacle Avoidance\n",
        "    def _avoided_obstacle(self, old_pos, new_pos):\n",
        "        x, y = old_pos\n",
        "        for dx, dy in [(-1, 0), (1, 0), (0, -1), (0, 1)]:\n",
        "            if (x + dx, y + dy) != new_pos and self.maze[x + dx, y + dy] == 2:\n",
        "                return True\n",
        "        return False\n",
        "\n",
        "    # Step Function\n",
        "    def step(self, action):\n",
        "        x, y = self.agent_pos\n",
        "        old_pos = (x, y)  # Get current position\n",
        "\n",
        "        # Navigation based on action\n",
        "        if action == 0:\n",
        "            new_x, new_y = x - 1, y  # up\n",
        "        elif action == 1:\n",
        "            new_x, new_y = x + 1, y  # down\n",
        "        elif action == 2:\n",
        "            new_x, new_y = x, y - 1  # left\n",
        "        elif action == 3:\n",
        "            new_x, new_y = x, y + 1  # right\n",
        "\n",
        "        done = False\n",
        "        reward = 0\n",
        "        expected_maze_value = self.maze[new_x, new_y]\n",
        "\n",
        "        self.current_steps += 1\n",
        "        # Check for walls or obstacles\n",
        "        if expected_maze_value == 1:  # Wall\n",
        "            reward = -3\n",
        "        elif expected_maze_value == 2:  # Obstacle\n",
        "            reward = -5\n",
        "\n",
        "        else:\n",
        "            self.agent_pos = [new_x, new_y]\n",
        "            if (new_x, new_y) == tuple(self.goal_pos):\n",
        "                reward = 300\n",
        "                done = True\n",
        "            elif self._avoided_obstacle(old_pos, (new_x, new_y)):  # Reward for avoiding obstacles\n",
        "                reward = 3\n",
        "            else:\n",
        "                # encourage faster goal reaching\n",
        "                reward = -0.2\n",
        "\n",
        "            # Reward for progress towards the goal\n",
        "            goal_distance_before = np.abs(self.agent_pos - self.goal_pos).sum()\n",
        "            goal_distance_after = np.abs(np.array([new_x, new_y]) - self.goal_pos).sum()\n",
        "            if goal_distance_after < goal_distance_before:\n",
        "                reward += 1  #\n",
        "\n",
        "        self.total_reward += reward\n",
        "        self.current_reward = self.total_reward  # Update reward for rendering\n",
        "        if self.current_steps >= self.max_steps:  # End episode if steps exceed max\n",
        "             done = True\n",
        "        return np.array(self.agent_pos, dtype=np.int32), reward, done, expected_maze_value  # Return immediate reward\n",
        "\n",
        "    # Render Function\n",
        "    def render(self, save_as_image=False, image_path=\"maze_image.png\"):\n",
        "        self.screen.fill((255, 255, 255))\n",
        "        colors = {\n",
        "            1: (0, 0, 0),   # Walls (black)\n",
        "            2: (255, 0, 0), # Obstacles (red)\n",
        "            3: (0, 255, 0), # Agent (green)\n",
        "            4: (0, 0, 255), # Goal (blue)\n",
        "            0: (255, 255, 255) # Path (white)\n",
        "        }\n",
        "\n",
        "        # Draw maze\n",
        "        for r in range(self.maze.shape[0]):\n",
        "            for c in range(self.maze.shape[1]):\n",
        "                pygame.draw.rect(\n",
        "                    self.screen, colors[self.maze[r, c]],\n",
        "                    (c * self.cell_size, r * self.cell_size, self.cell_size, self.cell_size)\n",
        "                )\n",
        "                pygame.draw.rect(\n",
        "                    self.screen, (0, 0, 0),\n",
        "                    (c * self.cell_size, r * self.cell_size, self.cell_size, self.cell_size), 1\n",
        "                )\n",
        "\n",
        "        # Draw agent\n",
        "        agent_x = self.agent_pos[1] * self.cell_size + self.cell_size // 2\n",
        "        agent_y = self.agent_pos[0] * self.cell_size + self.cell_size // 2\n",
        "        pygame.draw.circle(\n",
        "            self.screen, (255, 255, 0),\n",
        "            (agent_x, agent_y),\n",
        "            self.cell_size // 3\n",
        "        )\n",
        "\n",
        "        # Draw info text\n",
        "        lives_text = self.font.render(f\"Step: {self.current_steps}/{self.max_steps}\", True, (255, 0, 0))\n",
        "        reward_text = self.font.render(f\"Reward: {self.current_reward}\", True, (255, 105, 180))\n",
        "\n",
        "        self.screen.blit(lives_text, (self.maze.shape[1] * self.cell_size - 120, 10))\n",
        "        self.screen.blit(reward_text, (10, 10))\n",
        "\n",
        "        pygame.display.flip()\n",
        "\n",
        "        # Video recording\n",
        "        if self.record_video:\n",
        "            frame = pygame.surfarray.array3d(self.screen)\n",
        "            frame = np.transpose(frame, (1, 0, 2))\n",
        "            frame = cv2.cvtColor(frame, cv2.COLOR_RGB2BGR)\n",
        "            self.out.write(frame)\n",
        "\n",
        "        if save_as_image:\n",
        "            pygame.image.save(self.screen, image_path)\n",
        "        return pygame.surfarray.array3d(self.screen).swapaxes(0, 1)\n",
        "\n",
        "    def close(self):\n",
        "\n",
        "        if self.record_video:\n",
        "            self.out.release()\n",
        "            print(f\"Video saved to {self.output_video_path}\")\n",
        "        pygame.quit()\n"
      ],
      "metadata": {
        "id": "FaYajokhh6Ib",
        "trusted": true,
        "execution": {
          "iopub.status.busy": "2025-04-06T04:15:37.809528Z",
          "iopub.execute_input": "2025-04-06T04:15:37.809935Z",
          "iopub.status.idle": "2025-04-06T04:15:37.83754Z",
          "shell.execute_reply.started": "2025-04-06T04:15:37.809908Z",
          "shell.execute_reply": "2025-04-06T04:15:37.836699Z"
        }
      },
      "outputs": [],
      "execution_count": null
    },
    {
      "cell_type": "code",
      "source": [
        "\n",
        "env = CustomMazeEnv(record_video=True)"
      ],
      "metadata": {
        "id": "khrep5mj8Y_7",
        "trusted": true,
        "execution": {
          "iopub.status.busy": "2025-04-06T03:21:09.468876Z",
          "iopub.execute_input": "2025-04-06T03:21:09.46919Z",
          "iopub.status.idle": "2025-04-06T03:21:09.51931Z",
          "shell.execute_reply.started": "2025-04-06T03:21:09.469168Z",
          "shell.execute_reply": "2025-04-06T03:21:09.518604Z"
        }
      },
      "outputs": [],
      "execution_count": null
    },
    {
      "cell_type": "markdown",
      "source": [
        "### 🎥 Random Agent Demo\n",
        "\n",
        "[Watch the video](https://github.com/HaidyTalaat/Reinforcement-Learning-Project-Maze-Solving-Self-Driving-Car/blob/mariam-random-agent-recording-demo/Random_actions_demo%20.mp4)\n"
      ],
      "metadata": {
        "id": "ePGkI9BJgZAA"
      }
    },
    {
      "cell_type": "markdown",
      "source": [
        "# **3. Fine Tuning on Model Hyperparameters**"
      ],
      "metadata": {
        "id": "LsUYrG4D2DMD"
      }
    },
    {
      "cell_type": "markdown",
      "source": [
        "**3.1 Defining Hyperparameters**"
      ],
      "metadata": {
        "id": "jENnnFzv2DMD"
      }
    },
    {
      "cell_type": "code",
      "source": [
        "learning_rate_a = 0.0001\n",
        "discount_factor_g = 0.9         # discount rate (gamma)\n",
        "network_sync_rate = 200        # number of steps the agent takes before syncing the policy and target network\n",
        "replay_memory_size = 5000       # size of replay memory\n",
        "mini_batch_size = 32           # size of the training data set sampled from the replay memory\n",
        "epsilon = 1.0                 # exploration rate\n",
        "epsilon_decay = 0.957           # exploration rate decay\n",
        "epsilon_min = 0.1  # Never fully stop exploring\n",
        "episodes = 25"
      ],
      "metadata": {
        "id": "HTkuYHTK7MLA",
        "trusted": true,
        "execution": {
          "iopub.status.busy": "2025-04-06T01:57:22.670089Z",
          "iopub.execute_input": "2025-04-06T01:57:22.670436Z",
          "iopub.status.idle": "2025-04-06T01:57:22.674454Z",
          "shell.execute_reply.started": "2025-04-06T01:57:22.670407Z",
          "shell.execute_reply": "2025-04-06T01:57:22.673643Z"
        }
      },
      "outputs": [],
      "execution_count": null
    },
    {
      "cell_type": "markdown",
      "source": [
        "**3.2 Building Model**"
      ],
      "metadata": {
        "id": "jMiPqvv-2DME"
      }
    },
    {
      "cell_type": "code",
      "source": [
        "def build_model(state_size, action_size):\n",
        "    model = Sequential()\n",
        "\n",
        "    # First hidden layer with Leaky ReLU\n",
        "    model.add(Dense(256, input_shape=(state_size,)))\n",
        "    model.add(LeakyReLU(alpha=0.01))\n",
        "    model.add(BatchNormalization())\n",
        "    model.add(Dropout(0.2))\n",
        "\n",
        "    # Second hidden layer with Leaky ReLU\n",
        "    model.add(Dense(128))\n",
        "    model.add(LeakyReLU(alpha=0.01))\n",
        "    model.add(BatchNormalization())\n",
        "\n",
        "    # Third hidden layer with Leaky ReLU\n",
        "    model.add(Dense(64))\n",
        "    model.add(LeakyReLU(alpha=0.01))\n",
        "    model.add(BatchNormalization())\n",
        "    model.add(Dropout(0.2))\n",
        "\n",
        "    # Output layer\n",
        "    model.add(Dense(action_size, activation='linear'))\n",
        "\n",
        "    return model"
      ],
      "metadata": {
        "id": "oCdUHySsgW-E",
        "trusted": true,
        "execution": {
          "iopub.status.busy": "2025-04-05T23:48:01.726993Z",
          "iopub.execute_input": "2025-04-05T23:48:01.727293Z",
          "iopub.status.idle": "2025-04-05T23:48:01.732653Z",
          "shell.execute_reply.started": "2025-04-05T23:48:01.727271Z",
          "shell.execute_reply": "2025-04-05T23:48:01.73182Z"
        }
      },
      "outputs": [],
      "execution_count": null
    },
    {
      "cell_type": "code",
      "source": [
        "states=env.observation_space.shape[0]\n",
        "actions=env.action_space.n\n",
        "states,actions"
      ],
      "metadata": {
        "id": "8HMQM9v273IT",
        "trusted": true,
        "execution": {
          "iopub.status.busy": "2025-04-05T23:48:03.907571Z",
          "iopub.execute_input": "2025-04-05T23:48:03.907895Z",
          "iopub.status.idle": "2025-04-05T23:48:03.91326Z",
          "shell.execute_reply.started": "2025-04-05T23:48:03.907871Z",
          "shell.execute_reply": "2025-04-05T23:48:03.912243Z"
        },
        "outputId": "aecdf70a-c6ae-4519-9425-633f3b8b561d"
      },
      "outputs": [
        {
          "execution_count": 40,
          "output_type": "execute_result",
          "data": {
            "text/plain": "(2, 4)"
          },
          "metadata": {}
        }
      ],
      "execution_count": null
    },
    {
      "cell_type": "code",
      "source": [
        "model = build_model(2, 4)\n",
        "target_model = build_model(states, actions)\n",
        "target_model.set_weights(model.get_weights())\n",
        "\n",
        "model.compile(loss='mse', optimizer=Adam(learning_rate=learning_rate_a))\n",
        "target_model.compile(loss='mse', optimizer=Adam(learning_rate=learning_rate_a))\n"
      ],
      "metadata": {
        "trusted": true,
        "execution": {
          "iopub.status.busy": "2025-04-06T01:57:26.854406Z",
          "iopub.execute_input": "2025-04-06T01:57:26.854689Z",
          "iopub.status.idle": "2025-04-06T01:57:27.065657Z",
          "shell.execute_reply.started": "2025-04-06T01:57:26.854668Z",
          "shell.execute_reply": "2025-04-06T01:57:27.06473Z"
        },
        "id": "mx0OLPb42DME"
      },
      "outputs": [],
      "execution_count": null
    },
    {
      "cell_type": "code",
      "source": [
        "model.summary()"
      ],
      "metadata": {
        "id": "bsx0VeDo7rhB",
        "outputId": "8439582b-9b85-4a38-99d6-d3987d34935c",
        "colab": {
          "base_uri": "https://localhost:8080/",
          "height": 417
        },
        "trusted": true,
        "execution": {
          "iopub.status.busy": "2025-04-05T23:48:06.160027Z",
          "iopub.execute_input": "2025-04-05T23:48:06.160515Z",
          "iopub.status.idle": "2025-04-05T23:48:06.182364Z",
          "shell.execute_reply.started": "2025-04-05T23:48:06.160473Z",
          "shell.execute_reply": "2025-04-05T23:48:06.181705Z"
        }
      },
      "outputs": [
        {
          "output_type": "display_data",
          "data": {
            "text/plain": "\u001b[1mModel: \"sequential_10\"\u001b[0m\n",
            "text/html": "<pre style=\"white-space:pre;overflow-x:auto;line-height:normal;font-family:Menlo,'DejaVu Sans Mono',consolas,'Courier New',monospace\"><span style=\"font-weight: bold\">Model: \"sequential_10\"</span>\n</pre>\n"
          },
          "metadata": {}
        },
        {
          "output_type": "display_data",
          "data": {
            "text/plain": "┏━━━━━━━━━━━━━━━━━━━━━━━━━━━━━━━━━━━━━━┳━━━━━━━━━━━━━━━━━━━━━━━━━━━━━┳━━━━━━━━━━━━━━━━━┓\n┃\u001b[1m \u001b[0m\u001b[1mLayer (type)                        \u001b[0m\u001b[1m \u001b[0m┃\u001b[1m \u001b[0m\u001b[1mOutput Shape               \u001b[0m\u001b[1m \u001b[0m┃\u001b[1m \u001b[0m\u001b[1m        Param #\u001b[0m\u001b[1m \u001b[0m┃\n┡━━━━━━━━━━━━━━━━━━━━━━━━━━━━━━━━━━━━━━╇━━━━━━━━━━━━━━━━━━━━━━━━━━━━━╇━━━━━━━━━━━━━━━━━┩\n│ dense_40 (\u001b[38;5;33mDense\u001b[0m)                     │ (\u001b[38;5;45mNone\u001b[0m, \u001b[38;5;34m256\u001b[0m)                 │             \u001b[38;5;34m768\u001b[0m │\n├──────────────────────────────────────┼─────────────────────────────┼─────────────────┤\n│ leaky_re_lu_30 (\u001b[38;5;33mLeakyReLU\u001b[0m)           │ (\u001b[38;5;45mNone\u001b[0m, \u001b[38;5;34m256\u001b[0m)                 │               \u001b[38;5;34m0\u001b[0m │\n├──────────────────────────────────────┼─────────────────────────────┼─────────────────┤\n│ batch_normalization_30               │ (\u001b[38;5;45mNone\u001b[0m, \u001b[38;5;34m256\u001b[0m)                 │           \u001b[38;5;34m1,024\u001b[0m │\n│ (\u001b[38;5;33mBatchNormalization\u001b[0m)                 │                             │                 │\n├──────────────────────────────────────┼─────────────────────────────┼─────────────────┤\n│ dropout_20 (\u001b[38;5;33mDropout\u001b[0m)                 │ (\u001b[38;5;45mNone\u001b[0m, \u001b[38;5;34m256\u001b[0m)                 │               \u001b[38;5;34m0\u001b[0m │\n├──────────────────────────────────────┼─────────────────────────────┼─────────────────┤\n│ dense_41 (\u001b[38;5;33mDense\u001b[0m)                     │ (\u001b[38;5;45mNone\u001b[0m, \u001b[38;5;34m128\u001b[0m)                 │          \u001b[38;5;34m32,896\u001b[0m │\n├──────────────────────────────────────┼─────────────────────────────┼─────────────────┤\n│ leaky_re_lu_31 (\u001b[38;5;33mLeakyReLU\u001b[0m)           │ (\u001b[38;5;45mNone\u001b[0m, \u001b[38;5;34m128\u001b[0m)                 │               \u001b[38;5;34m0\u001b[0m │\n├──────────────────────────────────────┼─────────────────────────────┼─────────────────┤\n│ batch_normalization_31               │ (\u001b[38;5;45mNone\u001b[0m, \u001b[38;5;34m128\u001b[0m)                 │             \u001b[38;5;34m512\u001b[0m │\n│ (\u001b[38;5;33mBatchNormalization\u001b[0m)                 │                             │                 │\n├──────────────────────────────────────┼─────────────────────────────┼─────────────────┤\n│ dense_42 (\u001b[38;5;33mDense\u001b[0m)                     │ (\u001b[38;5;45mNone\u001b[0m, \u001b[38;5;34m64\u001b[0m)                  │           \u001b[38;5;34m8,256\u001b[0m │\n├──────────────────────────────────────┼─────────────────────────────┼─────────────────┤\n│ leaky_re_lu_32 (\u001b[38;5;33mLeakyReLU\u001b[0m)           │ (\u001b[38;5;45mNone\u001b[0m, \u001b[38;5;34m64\u001b[0m)                  │               \u001b[38;5;34m0\u001b[0m │\n├──────────────────────────────────────┼─────────────────────────────┼─────────────────┤\n│ batch_normalization_32               │ (\u001b[38;5;45mNone\u001b[0m, \u001b[38;5;34m64\u001b[0m)                  │             \u001b[38;5;34m256\u001b[0m │\n│ (\u001b[38;5;33mBatchNormalization\u001b[0m)                 │                             │                 │\n├──────────────────────────────────────┼─────────────────────────────┼─────────────────┤\n│ dropout_21 (\u001b[38;5;33mDropout\u001b[0m)                 │ (\u001b[38;5;45mNone\u001b[0m, \u001b[38;5;34m64\u001b[0m)                  │               \u001b[38;5;34m0\u001b[0m │\n├──────────────────────────────────────┼─────────────────────────────┼─────────────────┤\n│ dense_43 (\u001b[38;5;33mDense\u001b[0m)                     │ (\u001b[38;5;45mNone\u001b[0m, \u001b[38;5;34m4\u001b[0m)                   │             \u001b[38;5;34m260\u001b[0m │\n└──────────────────────────────────────┴─────────────────────────────┴─────────────────┘\n",
            "text/html": "<pre style=\"white-space:pre;overflow-x:auto;line-height:normal;font-family:Menlo,'DejaVu Sans Mono',consolas,'Courier New',monospace\">┏━━━━━━━━━━━━━━━━━━━━━━━━━━━━━━━━━━━━━━┳━━━━━━━━━━━━━━━━━━━━━━━━━━━━━┳━━━━━━━━━━━━━━━━━┓\n┃<span style=\"font-weight: bold\"> Layer (type)                         </span>┃<span style=\"font-weight: bold\"> Output Shape                </span>┃<span style=\"font-weight: bold\">         Param # </span>┃\n┡━━━━━━━━━━━━━━━━━━━━━━━━━━━━━━━━━━━━━━╇━━━━━━━━━━━━━━━━━━━━━━━━━━━━━╇━━━━━━━━━━━━━━━━━┩\n│ dense_40 (<span style=\"color: #0087ff; text-decoration-color: #0087ff\">Dense</span>)                     │ (<span style=\"color: #00d7ff; text-decoration-color: #00d7ff\">None</span>, <span style=\"color: #00af00; text-decoration-color: #00af00\">256</span>)                 │             <span style=\"color: #00af00; text-decoration-color: #00af00\">768</span> │\n├──────────────────────────────────────┼─────────────────────────────┼─────────────────┤\n│ leaky_re_lu_30 (<span style=\"color: #0087ff; text-decoration-color: #0087ff\">LeakyReLU</span>)           │ (<span style=\"color: #00d7ff; text-decoration-color: #00d7ff\">None</span>, <span style=\"color: #00af00; text-decoration-color: #00af00\">256</span>)                 │               <span style=\"color: #00af00; text-decoration-color: #00af00\">0</span> │\n├──────────────────────────────────────┼─────────────────────────────┼─────────────────┤\n│ batch_normalization_30               │ (<span style=\"color: #00d7ff; text-decoration-color: #00d7ff\">None</span>, <span style=\"color: #00af00; text-decoration-color: #00af00\">256</span>)                 │           <span style=\"color: #00af00; text-decoration-color: #00af00\">1,024</span> │\n│ (<span style=\"color: #0087ff; text-decoration-color: #0087ff\">BatchNormalization</span>)                 │                             │                 │\n├──────────────────────────────────────┼─────────────────────────────┼─────────────────┤\n│ dropout_20 (<span style=\"color: #0087ff; text-decoration-color: #0087ff\">Dropout</span>)                 │ (<span style=\"color: #00d7ff; text-decoration-color: #00d7ff\">None</span>, <span style=\"color: #00af00; text-decoration-color: #00af00\">256</span>)                 │               <span style=\"color: #00af00; text-decoration-color: #00af00\">0</span> │\n├──────────────────────────────────────┼─────────────────────────────┼─────────────────┤\n│ dense_41 (<span style=\"color: #0087ff; text-decoration-color: #0087ff\">Dense</span>)                     │ (<span style=\"color: #00d7ff; text-decoration-color: #00d7ff\">None</span>, <span style=\"color: #00af00; text-decoration-color: #00af00\">128</span>)                 │          <span style=\"color: #00af00; text-decoration-color: #00af00\">32,896</span> │\n├──────────────────────────────────────┼─────────────────────────────┼─────────────────┤\n│ leaky_re_lu_31 (<span style=\"color: #0087ff; text-decoration-color: #0087ff\">LeakyReLU</span>)           │ (<span style=\"color: #00d7ff; text-decoration-color: #00d7ff\">None</span>, <span style=\"color: #00af00; text-decoration-color: #00af00\">128</span>)                 │               <span style=\"color: #00af00; text-decoration-color: #00af00\">0</span> │\n├──────────────────────────────────────┼─────────────────────────────┼─────────────────┤\n│ batch_normalization_31               │ (<span style=\"color: #00d7ff; text-decoration-color: #00d7ff\">None</span>, <span style=\"color: #00af00; text-decoration-color: #00af00\">128</span>)                 │             <span style=\"color: #00af00; text-decoration-color: #00af00\">512</span> │\n│ (<span style=\"color: #0087ff; text-decoration-color: #0087ff\">BatchNormalization</span>)                 │                             │                 │\n├──────────────────────────────────────┼─────────────────────────────┼─────────────────┤\n│ dense_42 (<span style=\"color: #0087ff; text-decoration-color: #0087ff\">Dense</span>)                     │ (<span style=\"color: #00d7ff; text-decoration-color: #00d7ff\">None</span>, <span style=\"color: #00af00; text-decoration-color: #00af00\">64</span>)                  │           <span style=\"color: #00af00; text-decoration-color: #00af00\">8,256</span> │\n├──────────────────────────────────────┼─────────────────────────────┼─────────────────┤\n│ leaky_re_lu_32 (<span style=\"color: #0087ff; text-decoration-color: #0087ff\">LeakyReLU</span>)           │ (<span style=\"color: #00d7ff; text-decoration-color: #00d7ff\">None</span>, <span style=\"color: #00af00; text-decoration-color: #00af00\">64</span>)                  │               <span style=\"color: #00af00; text-decoration-color: #00af00\">0</span> │\n├──────────────────────────────────────┼─────────────────────────────┼─────────────────┤\n│ batch_normalization_32               │ (<span style=\"color: #00d7ff; text-decoration-color: #00d7ff\">None</span>, <span style=\"color: #00af00; text-decoration-color: #00af00\">64</span>)                  │             <span style=\"color: #00af00; text-decoration-color: #00af00\">256</span> │\n│ (<span style=\"color: #0087ff; text-decoration-color: #0087ff\">BatchNormalization</span>)                 │                             │                 │\n├──────────────────────────────────────┼─────────────────────────────┼─────────────────┤\n│ dropout_21 (<span style=\"color: #0087ff; text-decoration-color: #0087ff\">Dropout</span>)                 │ (<span style=\"color: #00d7ff; text-decoration-color: #00d7ff\">None</span>, <span style=\"color: #00af00; text-decoration-color: #00af00\">64</span>)                  │               <span style=\"color: #00af00; text-decoration-color: #00af00\">0</span> │\n├──────────────────────────────────────┼─────────────────────────────┼─────────────────┤\n│ dense_43 (<span style=\"color: #0087ff; text-decoration-color: #0087ff\">Dense</span>)                     │ (<span style=\"color: #00d7ff; text-decoration-color: #00d7ff\">None</span>, <span style=\"color: #00af00; text-decoration-color: #00af00\">4</span>)                   │             <span style=\"color: #00af00; text-decoration-color: #00af00\">260</span> │\n└──────────────────────────────────────┴─────────────────────────────┴─────────────────┘\n</pre>\n"
          },
          "metadata": {}
        },
        {
          "output_type": "display_data",
          "data": {
            "text/plain": "\u001b[1m Total params: \u001b[0m\u001b[38;5;34m43,972\u001b[0m (171.77 KB)\n",
            "text/html": "<pre style=\"white-space:pre;overflow-x:auto;line-height:normal;font-family:Menlo,'DejaVu Sans Mono',consolas,'Courier New',monospace\"><span style=\"font-weight: bold\"> Total params: </span><span style=\"color: #00af00; text-decoration-color: #00af00\">43,972</span> (171.77 KB)\n</pre>\n"
          },
          "metadata": {}
        },
        {
          "output_type": "display_data",
          "data": {
            "text/plain": "\u001b[1m Trainable params: \u001b[0m\u001b[38;5;34m43,076\u001b[0m (168.27 KB)\n",
            "text/html": "<pre style=\"white-space:pre;overflow-x:auto;line-height:normal;font-family:Menlo,'DejaVu Sans Mono',consolas,'Courier New',monospace\"><span style=\"font-weight: bold\"> Trainable params: </span><span style=\"color: #00af00; text-decoration-color: #00af00\">43,076</span> (168.27 KB)\n</pre>\n"
          },
          "metadata": {}
        },
        {
          "output_type": "display_data",
          "data": {
            "text/plain": "\u001b[1m Non-trainable params: \u001b[0m\u001b[38;5;34m896\u001b[0m (3.50 KB)\n",
            "text/html": "<pre style=\"white-space:pre;overflow-x:auto;line-height:normal;font-family:Menlo,'DejaVu Sans Mono',consolas,'Courier New',monospace\"><span style=\"font-weight: bold\"> Non-trainable params: </span><span style=\"color: #00af00; text-decoration-color: #00af00\">896</span> (3.50 KB)\n</pre>\n"
          },
          "metadata": {}
        }
      ],
      "execution_count": null
    },
    {
      "cell_type": "markdown",
      "source": [
        "**3.3 Experience Replay & Updating Memory**"
      ],
      "metadata": {
        "id": "znjUuvpW2DME"
      }
    },
    {
      "cell_type": "code",
      "source": [
        "from collections import deque\n",
        "max_size = replay_memory_size\n",
        "memory = deque(maxlen=max_size)\n",
        "def store_experience(state, action, reward, next_state, done):\n",
        "    memory.append((state, action, reward, next_state, done))\n"
      ],
      "metadata": {
        "id": "EXAnB-tT7tip",
        "trusted": true,
        "execution": {
          "iopub.status.busy": "2025-04-06T00:44:44.654477Z",
          "iopub.execute_input": "2025-04-06T00:44:44.654785Z",
          "iopub.status.idle": "2025-04-06T00:44:44.663034Z",
          "shell.execute_reply.started": "2025-04-06T00:44:44.654762Z",
          "shell.execute_reply": "2025-04-06T00:44:44.662076Z"
        }
      },
      "outputs": [],
      "execution_count": null
    },
    {
      "cell_type": "markdown",
      "source": [
        "**3.4  Balance between exploration and exploitation**"
      ],
      "metadata": {
        "id": "4ppCf45V2DME"
      }
    },
    {
      "cell_type": "code",
      "source": [
        "def epsilon_greedy_policy(q_values, epsilon, action_space):\n",
        "    if np.random.rand() <= epsilon:\n",
        "        return random.choice(range(action_space))\n",
        "    else:\n",
        "        return np.argmax(q_values)"
      ],
      "metadata": {
        "id": "PCQYrk6t7u8M",
        "trusted": true,
        "execution": {
          "iopub.status.busy": "2025-04-06T00:44:44.838156Z",
          "iopub.execute_input": "2025-04-06T00:44:44.838451Z",
          "iopub.status.idle": "2025-04-06T00:44:44.842373Z",
          "shell.execute_reply.started": "2025-04-06T00:44:44.838429Z",
          "shell.execute_reply": "2025-04-06T00:44:44.841524Z"
        }
      },
      "outputs": [],
      "execution_count": null
    },
    {
      "cell_type": "markdown",
      "source": [
        "**3.5 Training loop**"
      ],
      "metadata": {
        "id": "pe0duiKb2DME"
      }
    },
    {
      "cell_type": "code",
      "source": [
        "# Initialize lists to track metrics\n",
        "episode_losses = []\n",
        "episode_rewards = []\n",
        "episode_steps = []\n",
        "\n",
        "# Initialize global step counter for target network sync\n",
        "global_step = 0\n",
        "best_score = -np.inf\n",
        "max_steps = 500\n",
        "\n",
        "for episode in range(episodes):\n",
        "    state = env.reset()\n",
        "    total_reward = 0\n",
        "    step_count = 0\n",
        "    done = False\n",
        "    flag=False\n",
        "    #Initialize episode_loss to track if no training happens\n",
        "    episode_loss = None\n",
        "\n",
        "    while not done:\n",
        "\n",
        "        state_tensor = tf.convert_to_tensor([state], dtype=tf.float32)\n",
        "        q_values = model(state_tensor, training=False)[0].numpy()\n",
        "        action = epsilon_greedy_policy(q_values, epsilon, env.action_space.n)\n",
        "        next_state, reward, done, _ = env.step(action)\n",
        "\n",
        "        # Store experience\n",
        "        store_experience(state, action, reward, next_state, done)\n",
        "\n",
        "        # Update state and counters\n",
        "        state = next_state\n",
        "        total_reward += reward\n",
        "        step_count += 1\n",
        "        global_step += 1\n",
        "\n",
        "        # --- Training ---\n",
        "        if len(memory) >= mini_batch_size and global_step % 4 == 0:\n",
        "            mini_batch = random.sample(memory, mini_batch_size)\n",
        "            states_batch = []\n",
        "            targets_batch = []\n",
        "\n",
        "            for state_b, action_b, reward_b, next_state_b, done_b in mini_batch:\n",
        "\n",
        "                current_q = model(tf.expand_dims(state_b, 0), training=False).numpy()[0]\n",
        "                next_q = target_model(tf.expand_dims(next_state_b, 0), training=False).numpy()[0]\n",
        "\n",
        "                if done_b:\n",
        "                    current_q[action_b] = reward_b\n",
        "                else:\n",
        "                    current_q[action_b] = reward_b + discount_factor_g * np.max(next_q)\n",
        "\n",
        "                states_batch.append(state_b)\n",
        "                targets_batch.append(current_q)\n",
        "\n",
        "            # Train model\n",
        "            history = model.fit(\n",
        "                np.array(states_batch),\n",
        "                np.array(targets_batch),\n",
        "                batch_size=mini_batch_size,\n",
        "                verbose=0\n",
        "            )\n",
        "            episode_loss = history.history['loss'][0]\n",
        "\n",
        "            # update best model\n",
        "            efficiency = 1 - (step_count / max_steps)\n",
        "            episode_score = total_reward * 0.7 + efficiency * 0.3 * 100 # Scale efficiency\n",
        "\n",
        "            # Save best model\n",
        "            if episode_score > best_score:\n",
        "                best_score = episode_score\n",
        "                model.save('best_composite_model.keras')\n",
        "                flag=True\n",
        "\n",
        "\n",
        "            # Sync target network using GLOBAL step\n",
        "            if global_step % network_sync_rate == 0:\n",
        "                target_model.set_weights(model.get_weights())\n",
        "\n",
        "    # --- Episode End Processing ---\n",
        "    # Handle episodes with no training\n",
        "    if episode_loss is None:\n",
        "        episode_loss = episode_losses[-1] if episode_losses else 0  # Carry forward last loss\n",
        "\n",
        "    episode_losses.append(episode_loss)\n",
        "    episode_rewards.append(total_reward)\n",
        "    episode_steps.append(step_count)\n",
        "\n",
        "    # Epsilon decay\n",
        "    epsilon = max(epsilon * epsilon_decay, epsilon_min)\n",
        "\n",
        "    print(f\"Episode {episode+1}/{episodes} | Composite Score: {episode_score:.1f}| Reward: {total_reward:.1f} | Steps: {step_count} | Loss: {episode_loss:.4f} | ε: {epsilon:.3f}\")\n",
        "    if flag: print(f\"model saved at Episode {episode+1}/{episodes}\")"
      ],
      "metadata": {
        "trusted": true,
        "execution": {
          "iopub.status.busy": "2025-04-06T02:01:30.856125Z",
          "iopub.execute_input": "2025-04-06T02:01:30.85649Z",
          "iopub.status.idle": "2025-04-06T02:32:17.454165Z",
          "shell.execute_reply.started": "2025-04-06T02:01:30.856463Z",
          "shell.execute_reply": "2025-04-06T02:32:17.453127Z"
        },
        "id": "Al0tDUqO2DMF",
        "outputId": "888de6cb-fa6f-4680-80bc-e39b2c697aef"
      },
      "outputs": [
        {
          "name": "stdout",
          "text": "Episode 1/25 | Composite Score: -256.6| Reward: -427.6 | Steps: 500 | Loss: 2.0403 | ε: 0.957\nmodel saved at Episode 1/25\nEpisode 2/25 | Composite Score: -286.8| Reward: -478.0 | Steps: 500 | Loss: 1.7588 | ε: 0.916\nmodel saved at Episode 2/25\nEpisode 3/25 | Composite Score: -307.9| Reward: -513.2 | Steps: 500 | Loss: 2.1426 | ε: 0.876\nEpisode 4/25 | Composite Score: -103.9| Reward: 100.0 | Steps: 207 | Loss: 1.3621 | ε: 0.839\nEpisode 5/25 | Composite Score: 155.0| Reward: 220.0 | Steps: 117 | Loss: 1.5533 | ε: 0.803\nmodel saved at Episode 5/25\nEpisode 6/25 | Composite Score: -107.3| Reward: 92.8 | Steps: 217 | Loss: 1.4544 | ε: 0.768\nEpisode 7/25 | Composite Score: -498.5| Reward: -834.0 | Steps: 500 | Loss: 1.3461 | ε: 0.735\nEpisode 8/25 | Composite Score: 41.6| Reward: 53.2 | Steps: 339 | Loss: 1.5096 | ε: 0.704\nEpisode 9/25 | Composite Score: -144.7| Reward: -241.2 | Steps: 500 | Loss: 1.9147 | ε: 0.673\nEpisode 10/25 | Composite Score: -127.0| Reward: 69.4 | Steps: 314 | Loss: 1.4105 | ε: 0.644\nEpisode 11/25 | Composite Score: -94.0| Reward: -157.2 | Steps: 500 | Loss: 1.2701 | ε: 0.617\nEpisode 12/25 | Composite Score: -50.0| Reward: -89.6 | Steps: 500 | Loss: 1.2386 | ε: 0.590\nEpisode 13/25 | Composite Score: -62.3| Reward: -104.4 | Steps: 500 | Loss: 1.1913 | ε: 0.565\nEpisode 14/25 | Composite Score: -94.7| Reward: -155.2 | Steps: 500 | Loss: 1.8729 | ε: 0.540\nEpisode 15/25 | Composite Score: -30.8| Reward: -51.6 | Steps: 500 | Loss: 1.2454 | ε: 0.517\nEpisode 16/25 | Composite Score: -37.1| Reward: -62.4 | Steps: 500 | Loss: 671.5385 | ε: 0.495\nEpisode 17/25 | Composite Score: 7.8| Reward: 15.6 | Steps: 500 | Loss: 1.5813 | ε: 0.474\nEpisode 18/25 | Composite Score: -30.6| Reward: -48.4 | Steps: 500 | Loss: 2.0859 | ε: 0.453\nEpisode 19/25 | Composite Score: 83.9| Reward: 139.6 | Steps: 500 | Loss: 2.3069 | ε: 0.434\nEpisode 20/25 | Composite Score: 131.2| Reward: 215.2 | Steps: 500 | Loss: 1.3862 | ε: 0.415\nEpisode 21/25 | Composite Score: 280.1| Reward: 456.6 | Steps: 398 | Loss: 1.8606 | ε: 0.397\nmodel saved at Episode 21/25\nEpisode 22/25 | Composite Score: 192.0| Reward: 320.0 | Steps: 500 | Loss: 1.4285 | ε: 0.380\nEpisode 23/25 | Composite Score: 187.7| Reward: 312.8 | Steps: 500 | Loss: 2.6620 | ε: 0.364\nEpisode 24/25 | Composite Score: 226.1| Reward: 376.8 | Steps: 500 | Loss: 4.2099 | ε: 0.348\nEpisode 25/25 | Composite Score: 165.6| Reward: 276.0 | Steps: 500 | Loss: 5.2232 | ε: 0.333\n",
          "output_type": "stream"
        }
      ],
      "execution_count": null
    },
    {
      "cell_type": "markdown",
      "source": [
        "# **4. Showing Performanne across 25 Episodes**"
      ],
      "metadata": {
        "id": "m-p53VZZ2DMF"
      }
    },
    {
      "cell_type": "markdown",
      "source": [
        "**4.1 Rewards across episodes**"
      ],
      "metadata": {
        "id": "j7EDMeQ92DMF"
      }
    },
    {
      "cell_type": "code",
      "source": [
        "# Plotting rewards per episode\n",
        "plt.figure(figsize=(6, 4))\n",
        "plt.plot(range(episodes), episode_rewards, color='blue', label='Reward')\n",
        "plt.xlabel('Episodes')\n",
        "plt.ylabel('Reward')\n",
        "plt.title('Rewards per Episode')\n",
        "plt.grid(True)\n",
        "plt.show()\n"
      ],
      "metadata": {
        "trusted": true,
        "execution": {
          "iopub.status.busy": "2025-04-06T02:41:18.884168Z",
          "iopub.execute_input": "2025-04-06T02:41:18.884527Z",
          "iopub.status.idle": "2025-04-06T02:41:19.046713Z",
          "shell.execute_reply.started": "2025-04-06T02:41:18.884504Z",
          "shell.execute_reply": "2025-04-06T02:41:19.045889Z"
        },
        "id": "l8qm3A0S2DMF",
        "outputId": "81d201a6-e109-4bab-a560-086121cfb1a2"
      },
      "outputs": [
        {
          "output_type": "display_data",
          "data": {
            "text/plain": "<Figure size 600x400 with 1 Axes>",
            "image/png": "[encoded data removed]"
          },
          "metadata": {}
        }
      ],
      "execution_count": null
    },
    {
      "cell_type": "markdown",
      "source": [
        "**The agent shows inconsistent performance, with rewards fluctuating between positive and negative values across episodes.**"
      ],
      "metadata": {
        "id": "PiqwSaYQ2DMF"
      }
    },
    {
      "cell_type": "markdown",
      "source": [
        "**4.2 Steps across episodes**"
      ],
      "metadata": {
        "id": "dDjShODP2DMF"
      }
    },
    {
      "cell_type": "code",
      "source": [
        "# Plotting steps per episode\n",
        "plt.figure(figsize=(6, 4))\n",
        "plt.plot(range(episodes), episode_steps, color='green', label='Steps')\n",
        "plt.xlabel('Episodes')\n",
        "plt.ylabel('Steps')\n",
        "plt.title('Steps per Episode')\n",
        "plt.grid(True)\n",
        "plt.show()\n"
      ],
      "metadata": {
        "trusted": true,
        "execution": {
          "iopub.status.busy": "2025-04-06T02:42:51.159448Z",
          "iopub.execute_input": "2025-04-06T02:42:51.159833Z",
          "iopub.status.idle": "2025-04-06T02:42:51.329666Z",
          "shell.execute_reply.started": "2025-04-06T02:42:51.159776Z",
          "shell.execute_reply": "2025-04-06T02:42:51.32873Z"
        },
        "id": "9MaMGp5g2DMF",
        "outputId": "3d9bc2f5-1487-429b-e786-5339f3eaf3dc"
      },
      "outputs": [
        {
          "output_type": "display_data",
          "data": {
            "text/plain": "<Figure size 600x400 with 1 Axes>",
            "image/png": "[encoded data removed]"
          },
          "metadata": {}
        }
      ],
      "execution_count": null
    },
    {
      "cell_type": "markdown",
      "source": [
        "**all episodes took the maximum steps**"
      ],
      "metadata": {
        "id": "UUKfv3QO2DMG"
      }
    },
    {
      "cell_type": "markdown",
      "source": [
        "****4.3 Loss across episodes****"
      ],
      "metadata": {
        "id": "7Cs1EMwt2DMG"
      }
    },
    {
      "cell_type": "code",
      "source": [
        "# Plotting loss per episode\n",
        "plt.figure(figsize=(6, 4))\n",
        "plt.plot(range(episodes), episode_losses, color='red', label='Steps')\n",
        "plt.xlabel('Episodes')\n",
        "plt.ylabel('losses')\n",
        "plt.title('losses per Episode')\n",
        "plt.grid(True)\n",
        "plt.show()\n"
      ],
      "metadata": {
        "trusted": true,
        "execution": {
          "iopub.status.busy": "2025-04-06T03:52:15.713744Z",
          "iopub.execute_input": "2025-04-06T03:52:15.714099Z",
          "iopub.status.idle": "2025-04-06T03:52:15.88473Z",
          "shell.execute_reply.started": "2025-04-06T03:52:15.714078Z",
          "shell.execute_reply": "2025-04-06T03:52:15.884008Z"
        },
        "id": "M1rNAsB32DMG",
        "outputId": "263f4bc1-015f-46da-be59-e80943a9f8fa"
      },
      "outputs": [
        {
          "output_type": "display_data",
          "data": {
            "text/plain": "<Figure size 600x400 with 1 Axes>",
            "image/png": "[encoded data removed]"
          },
          "metadata": {}
        }
      ],
      "execution_count": null
    },
    {
      "cell_type": "markdown",
      "source": [
        "**AS we see there is extreme loss at episode 16**"
      ],
      "metadata": {
        "id": "XAUlnx_Q2DMG"
      }
    },
    {
      "cell_type": "markdown",
      "source": [
        "# **5. Recording Demo Video for best saved model showing agent solves the maze**"
      ],
      "metadata": {
        "id": "wI18xL_l2DMG"
      }
    },
    {
      "cell_type": "code",
      "source": [
        "!pip install imageio imageio-ffmpeg\n"
      ],
      "metadata": {
        "trusted": true,
        "execution": {
          "iopub.status.busy": "2025-04-06T03:47:34.738026Z",
          "iopub.execute_input": "2025-04-06T03:47:34.738325Z",
          "iopub.status.idle": "2025-04-06T03:47:38.096741Z",
          "shell.execute_reply.started": "2025-04-06T03:47:34.738305Z",
          "shell.execute_reply": "2025-04-06T03:47:38.095641Z"
        },
        "id": "PQm_CgiA2DMG",
        "outputId": "a8270f98-bd15-422f-e69f-642b4c0b6b25"
      },
      "outputs": [
        {
          "name": "stdout",
          "text": "Requirement already satisfied: imageio in /usr/local/lib/python3.10/dist-packages (2.36.1)\nRequirement already satisfied: imageio-ffmpeg in /usr/local/lib/python3.10/dist-packages (0.5.1)\nRequirement already satisfied: numpy in /usr/local/lib/python3.10/dist-packages (from imageio) (1.26.4)\nRequirement already satisfied: pillow>=8.3.2 in /usr/local/lib/python3.10/dist-packages (from imageio) (11.0.0)\nRequirement already satisfied: setuptools in /usr/local/lib/python3.10/dist-packages (from imageio-ffmpeg) (75.1.0)\nRequirement already satisfied: mkl_fft in /usr/local/lib/python3.10/dist-packages (from numpy->imageio) (1.3.8)\nRequirement already satisfied: mkl_random in /usr/local/lib/python3.10/dist-packages (from numpy->imageio) (1.2.4)\nRequirement already satisfied: mkl_umath in /usr/local/lib/python3.10/dist-packages (from numpy->imageio) (0.1.1)\nRequirement already satisfied: mkl in /usr/local/lib/python3.10/dist-packages (from numpy->imageio) (2025.0.1)\nRequirement already satisfied: tbb4py in /usr/local/lib/python3.10/dist-packages (from numpy->imageio) (2022.0.0)\nRequirement already satisfied: mkl-service in /usr/local/lib/python3.10/dist-packages (from numpy->imageio) (2.4.1)\nRequirement already satisfied: intel-openmp>=2024 in /usr/local/lib/python3.10/dist-packages (from mkl->numpy->imageio) (2024.2.0)\nRequirement already satisfied: tbb==2022.* in /usr/local/lib/python3.10/dist-packages (from mkl->numpy->imageio) (2022.0.0)\nRequirement already satisfied: tcmlib==1.* in /usr/local/lib/python3.10/dist-packages (from tbb==2022.*->mkl->numpy->imageio) (1.2.0)\nRequirement already satisfied: intel-cmplr-lib-rt in /usr/local/lib/python3.10/dist-packages (from mkl_umath->numpy->imageio) (2024.2.0)\nRequirement already satisfied: intel-cmplr-lib-ur==2024.2.0 in /usr/local/lib/python3.10/dist-packages (from intel-openmp>=2024->mkl->numpy->imageio) (2024.2.0)\n",
          "output_type": "stream"
        }
      ],
      "execution_count": null
    },
    {
      "cell_type": "code",
      "source": [
        "env = CustomMazeEnv(record_video=True, output_video_path=\"final_agent_run.mp4\", max_steps=500)\n"
      ],
      "metadata": {
        "trusted": true,
        "execution": {
          "iopub.status.busy": "2025-04-06T04:15:47.052155Z",
          "iopub.execute_input": "2025-04-06T04:15:47.052445Z",
          "iopub.status.idle": "2025-04-06T04:15:47.112415Z",
          "shell.execute_reply.started": "2025-04-06T04:15:47.052424Z",
          "shell.execute_reply": "2025-04-06T04:15:47.111518Z"
        },
        "id": "sVYT2czl2DMG"
      },
      "outputs": [],
      "execution_count": null
    },
    {
      "cell_type": "code",
      "source": [
        "import imageio\n",
        "import numpy as np\n",
        "from tqdm import trange\n",
        "from tensorflow.keras.models import load_model\n",
        "\n",
        "def demo(env, model_path, save_path=\"demo_video.mp4\", episodes=1, epsilon=0.0):\n",
        "    \"\"\"\n",
        "    Run a demo of the trained agent in the environment and save it as an MP4 video.\n",
        "\n",
        "    Args:\n",
        "        env: custom maze environment.\n",
        "        model_path: path to the saved model (.h5).\n",
        "        save_path: path to save the video (e.g., 'demo.mp4').\n",
        "        episodes: number of episodes to record.\n",
        "        epsilon: chance of taking a random action.\n",
        "    \"\"\"\n",
        "    model = load_model(model_path)\n",
        "    frames = []\n",
        "\n",
        "    for ep in trange(episodes, desc=\"Generating demo\"):\n",
        "        state = env.reset()\n",
        "        done = False\n",
        "        total_reward = 0\n",
        "\n",
        "        while not done:\n",
        "            frame = env.render()\n",
        "            frames.append(frame)\n",
        "\n",
        "            # Predict action\n",
        "            q_values = model.predict(np.expand_dims(state, axis=0), verbose=0)\n",
        "            if np.random.rand() < epsilon:\n",
        "                action = np.random.choice(env.action_space.n)\n",
        "            else:\n",
        "                action = np.argmax(q_values)\n",
        "\n",
        "            state, reward, done, _ = env.step(action)\n",
        "            total_reward += reward\n",
        "\n",
        "        print(f\"Episode {ep + 1} Reward: {total_reward}\")\n",
        "\n",
        "    # Save as mp4 using imageio's ffmpeg plugin\n",
        "    print(\"Saving video...\")\n",
        "    imageio.mimsave(save_path, frames, fps=10, codec='libx264')\n",
        "    print(f\"Video saved to {save_path}\")\n"
      ],
      "metadata": {
        "trusted": true,
        "execution": {
          "iopub.status.busy": "2025-04-06T04:15:52.072082Z",
          "iopub.execute_input": "2025-04-06T04:15:52.072379Z",
          "iopub.status.idle": "2025-04-06T04:15:52.078845Z",
          "shell.execute_reply.started": "2025-04-06T04:15:52.072358Z",
          "shell.execute_reply": "2025-04-06T04:15:52.078018Z"
        },
        "id": "5H1c3Hin2DMG"
      },
      "outputs": [],
      "execution_count": null
    },
    {
      "cell_type": "code",
      "source": [
        "env = CustomMazeEnv(record_video=True, output_video_path=\"agent_demo.mp4\")\n",
        "\n",
        "model = tf.keras.models.load_model('/kaggle/working/best_composite_model.keras')\n",
        "\n",
        "# Record demo\n",
        "demo(env, model_path='/kaggle/working/best_composite_model.keras', save_path=\"agent_run.mp4\", epsilon=0.1)"
      ],
      "metadata": {
        "trusted": true,
        "execution": {
          "iopub.status.busy": "2025-04-06T04:16:09.344939Z",
          "iopub.execute_input": "2025-04-06T04:16:09.34528Z",
          "iopub.status.idle": "2025-04-06T04:16:45.840009Z",
          "shell.execute_reply.started": "2025-04-06T04:16:09.345254Z",
          "shell.execute_reply": "2025-04-06T04:16:45.838738Z"
        },
        "id": "zM8IVrzu2DMG",
        "outputId": "5640ae99-ea33-425d-9a02-5052ab192040"
      },
      "outputs": [
        {
          "name": "stderr",
          "text": "Generating demo: 100%|██████████| 1/1 [00:33<00:00, 33.23s/it]",
          "output_type": "stream"
        },
        {
          "name": "stdout",
          "text": "Episode 1 Reward: 588.8000000000003\nSaving video...\n",
          "output_type": "stream"
        },
        {
          "name": "stderr",
          "text": "\n",
          "output_type": "stream"
        },
        {
          "name": "stdout",
          "text": "Video saved to agent_run.mp4\n",
          "output_type": "stream"
        }
      ],
      "execution_count": null
    },
    {
      "cell_type": "code",
      "source": [],
      "metadata": {
        "trusted": true,
        "id": "ZkpcVb5Q2DMH"
      },
      "outputs": [],
      "execution_count": null
    },
    {
      "cell_type": "code",
      "source": [],
      "metadata": {
        "trusted": true,
        "id": "GjuNLo8c2DMH"
      },
      "outputs": [],
      "execution_count": null
    }
  ]
}